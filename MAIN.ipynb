{
  "nbformat": 4,
  "nbformat_minor": 0,
  "metadata": {
    "colab": {
      "provenance": []
    },
    "kernelspec": {
      "name": "python3",
      "display_name": "Python 3"
    },
    "language_info": {
      "name": "python"
    }
  },
  "cells": [
    {
      "cell_type": "code",
      "source": [
        "!pip install openai==0.28\n",
        "!pip install gnews"
      ],
      "metadata": {
        "id": "sSJB1-wCNx99"
      },
      "execution_count": null,
      "outputs": []
    },
    {
      "cell_type": "code",
      "execution_count": null,
      "metadata": {
        "id": "kUlPTM3a3pAw"
      },
      "outputs": [],
      "source": [
        "import openai\n",
        "from gnews import GNews\n",
        "\n",
        "# Set your OpenAI API key\n",
        "openai.api_key = \"api key\"\n",
        "\n",
        "def generate_news_query(user_message):\n",
        "    keywords = [\n",
        "        user_message.get(\"Role\"),\n",
        "        user_message.get(\"Business Stage\"),\n",
        "        user_message.get(\"Industry\"),\n",
        "        user_message.get(\"Location\"),\n",
        "        user_message.get(\"Business Objective\"),\n",
        "    ]\n",
        "\n",
        "    # Remove None values and create a sentence from keywords\n",
        "    keywords_sentence = \" \".join(keyword for keyword in keywords if keyword)\n",
        "\n",
        "    # Generate a continuation using GPT-3.5-turbo\n",
        "    response = openai.Completion.create(\n",
        "        engine=\"text-davinci-003\",\n",
        "        prompt=f\"Generate a news query based on the following user information: {keywords_sentence}\",\n",
        "        max_tokens=100,\n",
        "        temperature=0,\n",
        "    )\n",
        "\n",
        "    news_query = response.choices[0].text.strip()\n",
        "    print(\"Generated News Query:\", news_query)  # Print the generated news query for debugging\n",
        "    return news_query\n",
        "\n",
        "# User input\n",
        "user_message = {\n",
        "    'Role': input(\"Enter the role: \"),\n",
        "    'Business Stage': input(\"Enter the business stage: \"),\n",
        "    'Industry': input(\"Enter the industry: \"),\n",
        "    'Location': input(\"Enter the location: \"),\n",
        "    'Business Objective': input(\"Enter the business objective: \"),\n",
        "}\n",
        "\n",
        "generated_news_query = generate_news_query(user_message)\n",
        "\n",
        "google_news = GNews()\n",
        "news_results = google_news.get_news(generated_news_query)\n",
        "\n",
        "# Print the first news article\n",
        "if news_results:\n",
        "    first_article = news_results[0]\n",
        "    print(\"First News Article:\")\n",
        "    print(f\"Title: {first_article['title']}\")\n",
        "    print(f\"url: {first_article['url']}\")\n",
        "else:\n",
        "    print(\"No news articles found.\")"
      ]
    }
  ]
}